{
 "cells": [
  {
   "cell_type": "markdown",
   "id": "b8f00f8a",
   "metadata": {},
   "source": [
    "# Description de données par un modèle sinusoïdal via une descente de gradient"
   ]
  },
  {
   "cell_type": "markdown",
   "id": "206dfa1e",
   "metadata": {},
   "source": [
    "### *Enoncé*\n",
    "\n",
    "On a enregistré pendant 4 secondes un signal sinusoïdal *(pollué par du bruit)* échantillonné à 1 milliseconde\n",
    "\n",
    "Créer une fonction `DGs` *(présentant les mêmes 5 paramètres d'entrée que la fonction* `DGd` *)* permettant d'obtenir via l'algorithme de **descente de gradient** toutes les caractéristiques du signal sinusoïdal, à savoir :\n",
    "* **a0** : sa composante continue\n",
    "* **A** : son amplitude\n",
    "* **phi** : son déphasage \n",
    "* **w** : sa pulsation"
   ]
  },
  {
   "cell_type": "code",
   "execution_count": 16,
   "id": "6016a178",
   "metadata": {},
   "outputs": [
    {
     "name": "stdout",
     "output_type": "stream",
     "text": [
      "Using matplotlib backend: Qt5Agg\n"
     ]
    }
   ],
   "source": [
    "import numpy as np\n",
    "import matplotlib.pyplot as plt\n",
    "%matplotlib"
   ]
  },
  {
   "cell_type": "code",
   "execution_count": 17,
   "id": "c1ddf6b0",
   "metadata": {},
   "outputs": [],
   "source": [
    "t = np.linspace(0,4,4001)\n",
    "s = 0.25 + 0.75*np.sin(2*t+0.5)+ 0.05*np.random.randn(len(t))\n",
    "\n",
    "plt.figure(0,figsize=(12,8))\n",
    "plt.clf()\n",
    "plt.scatter(t, s, label=\"données enregistrées\")\n",
    "plt.xlabel('variable t (en secondes)', fontsize=18)\n",
    "plt.ylabel('variable s (en volts)', fontsize=18)\n",
    "plt.legend(fontsize=18)\n",
    "plt.grid()\n",
    "plt.show()"
   ]
  },
  {
   "cell_type": "code",
   "execution_count": 18,
   "id": "8c7916a3",
   "metadata": {},
   "outputs": [],
   "source": [
    "def DGs(t,s,Theta0,lrate,Nbmax):\n",
    "    Theta = np.zeros((4,Nbmax+1))\n",
    "    # -> programmer l'algorithme de descente de gradient\n",
    "    # Les valeurs des paramètres Theta au fil des itérations sont à ranger dans le vecteur Theta\n",
    "    # Et l'erreur moyenne de modélisation à l'issue de l'algorithme sera notée coutfinal\n",
    "    \n",
    "    print('Les paramètres du modèle sont  a0 = {:.4f}, A = {:.4f}, phi = {:.4f} et w = {:.4f}'\n",
    "          .format(a0,A,phi,w))\n",
    "    print('Erreur de modélisation moyenne au carré : {:.4f}'.format(coutfinal))\n",
    "    \n",
    "    plt.figure(1,figsize=(12,8))\n",
    "    plt.clf()\n",
    "    plt.scatter(t, s, c='b', label=\"données enregistrées\")\n",
    "    plt.plot(t,a0+A*np.sin(w*t+phi), c='r', label=\"données modélisées\")\n",
    "    plt.xlabel('variable t (en secondes)', fontsize=18)\n",
    "    plt.ylabel('variable s (en volts)', fontsize=18)\n",
    "    plt.legend(fontsize=18)\n",
    "    plt.grid()\n",
    "    plt.show()\n",
    "    \n",
    "    plt.figure(2,figsize=(12,8))\n",
    "    plt.clf()\n",
    "    plt.scatter(np.linspace(0,Nbmax,Nbmax+1), Theta[0,:], c = 'b', label = \"a0\")\n",
    "    plt.scatter(np.linspace(0,Nbmax,Nbmax+1), Theta[1,:], c = 'c', label = \"A\")\n",
    "    plt.scatter(np.linspace(0,Nbmax,Nbmax+1), Theta[2,:], c = 'm', label = \"phi\")\n",
    "    plt.scatter(np.linspace(0,Nbmax,Nbmax+1), Theta[3,:]/Mt, c = 'r', label = \"w\")\n",
    "    plt.xlabel('itérations', fontsize=18)\n",
    "    plt.ylabel('paramètres', fontsize=18)\n",
    "    plt.legend(fontsize=18)\n",
    "    plt.grid()\n",
    "    plt.show()   "
   ]
  },
  {
   "cell_type": "code",
   "execution_count": null,
   "id": "2b69f3cf",
   "metadata": {},
   "outputs": [],
   "source": [
    "Theta0 = np.array([0,0,0,1.5])\n",
    "DGs(t,s,Theta0,0.5,400)"
   ]
  },
  {
   "cell_type": "markdown",
   "id": "5b134400",
   "metadata": {},
   "source": [
    "On peut constater que deux paramètres du modèle convergent plus lentement que les autres.  \n",
    "Une possibilité serait de ***gonfler sélectivement le gain d'apprentissage*** pour ces 2 paramètres  \n",
    "Pour retravailler ce qui a été vu précédemment lors de ces TP, créer tout simplement une fonction `DGsi` qui **ajoute de l'inertie** à la descente de gradient"
   ]
  },
  {
   "cell_type": "code",
   "execution_count": 21,
   "id": "46f72e03",
   "metadata": {},
   "outputs": [],
   "source": [
    "def DGsi(t,s,Theta0,lrate,rateI,Nbmax):\n",
    "\n",
    "    Theta = np.zeros((4,Nbmax+1))\n",
    "    # -> apporter les modifications demandées à votre algorithme de descente de gradient\n",
    "    \n",
    "    print('Les paramètres du modèle sont  a0 = {:.4f}, A = {:.4f}, phi = {:.4f} et w = {:.4f}'\n",
    "          .format(a0,A,phi,w))\n",
    "    print('Erreur de modélisation moyenne au carré : {:.4f}'.format(coutfinal))\n",
    "    \n",
    "    plt.figure(1,figsize=(12,8))\n",
    "    plt.clf()\n",
    "    plt.scatter(t, s, c='b', label=\"données enregistrées\")\n",
    "    plt.plot(t,a0+A*np.sin(w*t+phi), c='r', label=\"données modélisées\")\n",
    "    plt.xlabel('variable t (en secondes)', fontsize=18)\n",
    "    plt.ylabel('variable s (en volts)', fontsize=18)\n",
    "    plt.legend(fontsize=18)\n",
    "    plt.grid()\n",
    "    plt.show()\n",
    "    \n",
    "    plt.figure(2,figsize=(12,8))\n",
    "    plt.clf()\n",
    "    plt.scatter(np.linspace(0,Nbmax,Nbmax+1), Theta[0,:], c = 'b', label = \"a0\")\n",
    "    plt.scatter(np.linspace(0,Nbmax,Nbmax+1), Theta[1,:], c = 'c', label = \"A\")\n",
    "    plt.scatter(np.linspace(0,Nbmax,Nbmax+1), Theta[2,:], c = 'm', label = \"phi\")\n",
    "    plt.scatter(np.linspace(0,Nbmax,Nbmax+1), Theta[3,:]/Mt, c = 'r', label = \"w\")\n",
    "    plt.xlabel('itérations', fontsize=18)\n",
    "    plt.ylabel('paramètres', fontsize=18)\n",
    "    plt.legend(fontsize=18)\n",
    "    plt.grid()\n",
    "    plt.show()   "
   ]
  },
  {
   "cell_type": "code",
   "execution_count": null,
   "id": "7b02cb4b",
   "metadata": {},
   "outputs": [],
   "source": [
    "Theta0 = np.array([0,0,0,1.5])\n",
    "DGsi(t,s,Theta0,0.5,0.9,400)"
   ]
  }
 ],
 "metadata": {
  "kernelspec": {
   "display_name": "Python 3",
   "language": "python",
   "name": "python3"
  },
  "language_info": {
   "codemirror_mode": {
    "name": "ipython",
    "version": 3
   },
   "file_extension": ".py",
   "mimetype": "text/x-python",
   "name": "python",
   "nbconvert_exporter": "python",
   "pygments_lexer": "ipython3",
   "version": "3.8.8"
  }
 },
 "nbformat": 4,
 "nbformat_minor": 5
}
