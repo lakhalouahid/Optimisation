{
 "cells": [
  {
   "cell_type": "markdown",
   "id": "325d0c1e",
   "metadata": {},
   "source": [
    "# Minimisation d'une fonction à 1 variable"
   ]
  },
  {
   "cell_type": "markdown",
   "id": "fce02991",
   "metadata": {},
   "source": [
    "###  ***Enoncé***  \n",
    "\n",
    "En exploitant l'algorithme de base pour **la descente de gradient**, déterminer sur la plage $\\boldsymbol{\\theta\\in[\\,0\\,,\\,6\\,]}$ le minimum de la fonction *(représentée ci-dessous)* :\n",
    "\n",
    "$$ \\boldsymbol{J(\\theta) = \\theta^{\\,4}-11\\,\\theta^{\\,3}+41\\,\\theta^{\\,2}-61\\,\\theta+30}$$"
   ]
  },
  {
   "cell_type": "code",
   "execution_count": 4,
   "id": "ef389dad",
   "metadata": {},
   "outputs": [],
   "source": [
    "import numpy as np\n",
    "import matplotlib.pyplot as plt\n",
    "%matplotlib inline"
   ]
  },
  {
   "cell_type": "code",
   "execution_count": 5,
   "id": "ae4ab57a",
   "metadata": {},
   "outputs": [],
   "source": [
    "def cout(theta):\n",
    "    Jtheta = theta**4 - 11*theta**3 + 41*theta**2 - 61*theta + 30\n",
    "    return Jtheta"
   ]
  },
  {
   "cell_type": "code",
   "execution_count": 6,
   "id": "6d41facc",
   "metadata": {},
   "outputs": [
    {
     "data": {
      "image/png": "[encoded data removed]",
      "text/plain": [
       "<Figure size 576x576 with 1 Axes>"
      ]
     },
     "metadata": {
      "needs_background": "light"
     },
     "output_type": "display_data"
    }
   ],
   "source": [
    "theta_trace = np.linspace(0,6,101)\n",
    "Jtheta_trace = cout(theta_trace)\n",
    "    \n",
    "plt.figure(1,figsize=(8,8))\n",
    "plt.plot(theta_trace, Jtheta_trace, label=\"fonction coût\", linewidth = 2)\n",
    "plt.xlabel('paramètre', fontsize=18)\n",
    "plt.ylabel('coût', fontsize=18)\n",
    "plt.legend(fontsize=18)\n",
    "plt.grid()\n",
    "plt.show()"
   ]
  },
  {
   "cell_type": "markdown",
   "id": "81053b90",
   "metadata": {},
   "source": [
    "Pour pouvoir comparer facilement différentes initialisations / paramétrisations de l'algorithme, il est demandé de programmer la descente de gradient au sein d'une fonction `DG` présentant 3 paramètres d'entrée :\n",
    "* **theta0** : valeur initiale du paramètre pour lancer l'algorithme\n",
    "* **lrate** : gain du gradient *(learning rate)*\n",
    "* **duree** : durée (en seconde) entre 2 itérations sur les graphiques *( duree = 0 pour tout tracer en bloc)*"
   ]
  },
  {
   "cell_type": "code",
   "execution_count": 7,
   "id": "2aa90f7e",
   "metadata": {},
   "outputs": [
    {
     "name": "stdout",
     "output_type": "stream",
     "text": [
      "Using matplotlib backend: <object object at 0x7f0146f878f0>\n"
     ]
    }
   ],
   "source": [
    "%matplotlib"
   ]
  },
  {
   "cell_type": "code",
   "execution_count": 8,
   "id": "e9af8f82",
   "metadata": {},
   "outputs": [],
   "source": [
    "# Il paraîtrait naturel de commencer par créer une fonction :\n",
    "# -> qui prend en paramètre d'entrée la valeur de theta\n",
    "# -> et qui retourne la valeur du gradient de la fonction coût pour cette valeur de theta"
   ]
  },
  {
   "cell_type": "code",
   "execution_count": 12,
   "id": "f82f0baa",
   "metadata": {},
   "outputs": [],
   "source": [
    "def DG(theta0,lrate,duree):    \n",
    "    Nbmax = 100            # nombre maximum d'itérations\n",
    "    tolerance = 1e-4       # variation du coût pour arrêter les itérations\n",
    "    \n",
    "    theta = np.zeros((Nbmax+1,))\n",
    "    # -> programmer l'algorithme de descente de gradient\n",
    "    # Les valeurs du paramètre theta au fil des itérations sont à ranger dans le vecteur theta\n",
    "    # Et le nombre d'itérations jusqu'à la convergence de l'algorithme sera noté i+1\n",
    "\n",
    "    print('Le nombre d\\'itération est :',i+1)\n",
    "    print('Le minimum de la fonction est atteint pour theta = {:.4f}'.format(theta[-1]))\n",
    "    print('Le minimum de la fonction est J(theta) = {:.4f}'.format(cout(theta[-1])))\n",
    "    \n",
    "    plt.figure(1,figsize=(8,8))\n",
    "    plt.clf()\n",
    "    plt.plot(theta_trace, Jtheta_trace, c = 'b', label = \"fonction coût\", linewidth = 2)\n",
    "    plt.grid()\n",
    "    plt.figure(2,figsize=(8,8))\n",
    "    plt.clf()\n",
    "    plt.xlim(-1, i+1)\n",
    "    plt.ylim(min(theta)-0.1,max(theta)+0.1)\n",
    "    plt.grid()\n",
    "    plt.scatter(0, theta[0], c = 'b', label = \"paramètre\")\n",
    "    \n",
    "    if duree != 0:\n",
    "        for j in range(i+2):\n",
    "            plt.figure(1)\n",
    "            plt.scatter(theta[j], cout(theta[j]), c = 'r')\n",
    "            plt.pause(duree)\n",
    "            plt.figure(2)\n",
    "            plt.scatter(j,theta[j], c = 'b')\n",
    "            plt.pause(duree)\n",
    "    else:\n",
    "        plt.figure(1)\n",
    "        plt.scatter(theta, cout(theta), c = 'r')\n",
    "        plt.figure(2)\n",
    "        plt.scatter(np.linspace(0,i+1,i+2), theta, c = 'b')\n",
    "        \n",
    "    plt.figure(1)\n",
    "    plt.xlabel('paramètre', fontsize=18)\n",
    "    plt.ylabel('coût', fontsize=18)\n",
    "    plt.legend(fontsize=18)\n",
    "    plt.figure(2)\n",
    "    plt.xlabel('itération', fontsize=18)\n",
    "    plt.ylabel('paramètre', fontsize=18)\n",
    "    plt.legend(fontsize=18)\n",
    "    plt.show()"
   ]
  },
  {
   "cell_type": "markdown",
   "id": "f2d1e74c",
   "metadata": {},
   "source": [
    "Lorsque l'on initialise l'algorithme dans **le bassin d'attraction du minimum global** et que l'on utilise un gain faible, l'algorithme amène vers le minimum global"
   ]
  },
  {
   "cell_type": "code",
   "execution_count": 13,
   "id": "1901ae8d",
   "metadata": {},
   "outputs": [
    {
     "ename": "NameError",
     "evalue": "name 'i' is not defined",
     "output_type": "error",
     "traceback": [
      "\u001b[0;31m---------------------------------------------------------------------------\u001b[0m",
      "\u001b[0;31mNameError\u001b[0m                                 Traceback (most recent call last)",
      "\u001b[0;32m/tmp/ipykernel_1771/3985228607.py\u001b[0m in \u001b[0;36m<module>\u001b[0;34m\u001b[0m\n\u001b[0;32m----> 1\u001b[0;31m \u001b[0mDG\u001b[0m\u001b[0;34m(\u001b[0m\u001b[0;36m5\u001b[0m\u001b[0;34m,\u001b[0m\u001b[0;36m0.01\u001b[0m\u001b[0;34m,\u001b[0m\u001b[0;36m0\u001b[0m\u001b[0;34m)\u001b[0m\u001b[0;34m\u001b[0m\u001b[0;34m\u001b[0m\u001b[0m\n\u001b[0m",
      "\u001b[0;32m/tmp/ipykernel_1771/1998523148.py\u001b[0m in \u001b[0;36mDG\u001b[0;34m(theta0, lrate, duree)\u001b[0m\n\u001b[1;32m      8\u001b[0m     \u001b[0;31m# Et le nombre d'itérations jusqu'à la convergence de l'algorithme sera noté i+1\u001b[0m\u001b[0;34m\u001b[0m\u001b[0;34m\u001b[0m\u001b[0m\n\u001b[1;32m      9\u001b[0m \u001b[0;34m\u001b[0m\u001b[0m\n\u001b[0;32m---> 10\u001b[0;31m     \u001b[0mprint\u001b[0m\u001b[0;34m(\u001b[0m\u001b[0;34m'Le nombre d\\'itération est :'\u001b[0m\u001b[0;34m,\u001b[0m\u001b[0mi\u001b[0m\u001b[0;34m+\u001b[0m\u001b[0;36m1\u001b[0m\u001b[0;34m)\u001b[0m\u001b[0;34m\u001b[0m\u001b[0;34m\u001b[0m\u001b[0m\n\u001b[0m\u001b[1;32m     11\u001b[0m     \u001b[0mprint\u001b[0m\u001b[0;34m(\u001b[0m\u001b[0;34m'Le minimum de la fonction est atteint pour theta = {:.4f}'\u001b[0m\u001b[0;34m.\u001b[0m\u001b[0mformat\u001b[0m\u001b[0;34m(\u001b[0m\u001b[0mtheta\u001b[0m\u001b[0;34m[\u001b[0m\u001b[0;34m-\u001b[0m\u001b[0;36m1\u001b[0m\u001b[0;34m]\u001b[0m\u001b[0;34m)\u001b[0m\u001b[0;34m)\u001b[0m\u001b[0;34m\u001b[0m\u001b[0;34m\u001b[0m\u001b[0m\n\u001b[1;32m     12\u001b[0m     \u001b[0mprint\u001b[0m\u001b[0;34m(\u001b[0m\u001b[0;34m'Le minimum de la fonction est J(theta) = {:.4f}'\u001b[0m\u001b[0;34m.\u001b[0m\u001b[0mformat\u001b[0m\u001b[0;34m(\u001b[0m\u001b[0mcout\u001b[0m\u001b[0;34m(\u001b[0m\u001b[0mtheta\u001b[0m\u001b[0;34m[\u001b[0m\u001b[0;34m-\u001b[0m\u001b[0;36m1\u001b[0m\u001b[0;34m]\u001b[0m\u001b[0;34m)\u001b[0m\u001b[0;34m)\u001b[0m\u001b[0;34m)\u001b[0m\u001b[0;34m\u001b[0m\u001b[0;34m\u001b[0m\u001b[0m\n",
      "\u001b[0;31mNameError\u001b[0m: name 'i' is not defined"
     ]
    }
   ],
   "source": [
    "DG(5,0.01,0)"
   ]
  },
  {
   "cell_type": "code",
   "execution_count": null,
   "id": "13e48e02",
   "metadata": {},
   "outputs": [],
   "source": [
    "\n",
    "DG(3.5,0.01,0)"
   ]
  },
  {
   "cell_type": "markdown",
   "id": "2666cab7",
   "metadata": {},
   "source": [
    "A l'inverse, lorsque l'on initialise l'algorithme dans **le bassin d'attraction d'un minimum local** et que l'on utilise un gain faible, l'algorithme amène cette fois vers le minimum local"
   ]
  },
  {
   "cell_type": "code",
   "execution_count": null,
   "id": "abde8df8",
   "metadata": {},
   "outputs": [],
   "source": [
    "DG(0.5,0.01,0)"
   ]
  },
  {
   "cell_type": "markdown",
   "id": "c83b5846",
   "metadata": {},
   "source": [
    "Si l'on rencontre **une zone où le gradient est très faible**, la convergence peut piétiner sur un nombre important d'itérations "
   ]
  },
  {
   "cell_type": "code",
   "execution_count": null,
   "id": "9c93ec67",
   "metadata": {},
   "outputs": [],
   "source": [
    "DG(2.5,0.01,0.1)"
   ]
  },
  {
   "cell_type": "code",
   "execution_count": null,
   "id": "854c0cb1",
   "metadata": {},
   "outputs": [],
   "source": [
    "DG(2.55,0.01,0)"
   ]
  },
  {
   "cell_type": "markdown",
   "id": "9c45051a",
   "metadata": {},
   "source": [
    "On revient sur le premier cas étudié et **l'on augmente progressivement le gain**.  \n",
    "Dans un premier temps, ***la convergence est accélérée***"
   ]
  },
  {
   "cell_type": "code",
   "execution_count": null,
   "id": "cc771bcd",
   "metadata": {},
   "outputs": [],
   "source": [
    "DG(5,0.01,0)"
   ]
  },
  {
   "cell_type": "code",
   "execution_count": null,
   "id": "d3d3768e",
   "metadata": {},
   "outputs": [],
   "source": [
    "DG(5,0.02,0)"
   ]
  },
  {
   "cell_type": "code",
   "execution_count": null,
   "id": "1fee1f17",
   "metadata": {},
   "outputs": [],
   "source": [
    "DG(5,0.04,0)"
   ]
  },
  {
   "cell_type": "markdown",
   "id": "2b15f13f",
   "metadata": {},
   "source": [
    "puis ***des oscillations amorties*** sur la valeur du paramètre apparaissent "
   ]
  },
  {
   "cell_type": "code",
   "execution_count": null,
   "id": "b5183ac0",
   "metadata": {},
   "outputs": [],
   "source": [
    "DG(5,0.07,0)"
   ]
  },
  {
   "cell_type": "markdown",
   "id": "13b02f94",
   "metadata": {},
   "source": [
    "et ces oscillations finissent par ***ne plus s'amortir***"
   ]
  },
  {
   "cell_type": "code",
   "execution_count": null,
   "id": "8afa77ad",
   "metadata": {},
   "outputs": [],
   "source": [
    "DG(5,0.1,0)"
   ]
  },
  {
   "cell_type": "code",
   "execution_count": null,
   "id": "3ce99f1e",
   "metadata": {},
   "outputs": [],
   "source": [
    "DG(5,0.17,0)"
   ]
  },
  {
   "cell_type": "markdown",
   "id": "06b949e7",
   "metadata": {},
   "source": [
    "**Lorsque le gradient peut être calculé analytiquement** *(comme c'est le cas ici, puisque la fonction coût est un simple polynôme)*, ***il est avantageux*** en termes de coût calculatoire d'utiliser l'expression analytique.  \n",
    "Lorsque l'expression analytique n'est plus accessible facilement, ***on peut se rabattre sur un gradient numérique***"
   ]
  },
  {
   "cell_type": "code",
   "execution_count": 8,
   "id": "1807b751",
   "metadata": {},
   "outputs": [],
   "source": [
    "# Reprogrammer la fonction gradient, en utilisant cette fois un gradient numérique"
   ]
  },
  {
   "cell_type": "code",
   "execution_count": null,
   "id": "28b8a53e",
   "metadata": {},
   "outputs": [],
   "source": [
    "DG(5,0.01,0)"
   ]
  },
  {
   "cell_type": "markdown",
   "id": "2a453a38",
   "metadata": {},
   "source": [
    "Dans ce cas particulier, la fonction coût est **aisément dérivable deux fois** *(puisqu'il s'agit d'un polynôme)*, aussi on peut rechercher le minimum de la fonction **via l'algorithme de Newton**"
   ]
  },
  {
   "cell_type": "code",
   "execution_count": 11,
   "id": "4aa56668",
   "metadata": {},
   "outputs": [],
   "source": [
    "# Reprogrammer ici la fonction qui retourne le gradient via son expression analytique"
   ]
  },
  {
   "cell_type": "code",
   "execution_count": 12,
   "id": "4c7bea48",
   "metadata": {},
   "outputs": [],
   "source": [
    "# Puis programmer une fonction qui retourne le hessien, toujours via son expression analytique"
   ]
  },
  {
   "cell_type": "code",
   "execution_count": 10,
   "id": "c56155d6",
   "metadata": {},
   "outputs": [],
   "source": [
    "def NewtonAlgo(theta0,duree):    \n",
    "    Nbmax = 100            # nombre maximum d'itérations\n",
    "    tolerance = 1e-4       # variation du coût pour arrêter les itérations\n",
    "    \n",
    "    theta = np.zeros((Nbmax+1,))\n",
    "    # -> programmer l'algorithme de Newton\n",
    "    # Encore une fois , les valeurs du paramètre theta au fil des itérations sont à ranger dans le vecteur theta\n",
    "    # Et le nombre d'itérations jusqu'à la convergence de l'algorithme sera noté i+1\n",
    "    \n",
    "    print('Le nombre d\\'itération est :',i+1)\n",
    "    print('Le minimum de la fonction est atteint pour theta = {:.4f}'.format(theta[-1]))\n",
    "    print('Le minimum de la fonction est J(theta) = {:.4f}'.format(cout(theta[-1])))\n",
    "    \n",
    "    plt.figure(1,figsize=(8,8))\n",
    "    plt.clf()\n",
    "    plt.plot(theta_trace, Jtheta_trace, c = 'b', label = \"fonction coût\", linewidth = 2)\n",
    "    plt.grid()\n",
    "    plt.figure(2,figsize=(8,8))\n",
    "    plt.clf()\n",
    "    plt.xlim(-1, i+1)\n",
    "    plt.ylim(min(theta)-0.1,max(theta)+0.1)\n",
    "    plt.grid()\n",
    "    plt.scatter(0, theta[0], c = 'b', label = \"paramètre\")\n",
    "    \n",
    "    if duree != 0:\n",
    "        for j in range(i+2):\n",
    "            plt.figure(1)\n",
    "            plt.scatter(theta[j], cout(theta[j]), c = 'r')\n",
    "            plt.pause(duree)\n",
    "            plt.figure(2)\n",
    "            plt.scatter(j,theta[j], c = 'b')\n",
    "            plt.pause(duree)\n",
    "    else:\n",
    "        plt.figure(1)\n",
    "        plt.scatter(theta, cout(theta), c = 'r')\n",
    "        plt.figure(2)\n",
    "        plt.scatter(np.linspace(0,i+1,i+2), theta, c = 'b')\n",
    "        \n",
    "    plt.figure(1)\n",
    "    plt.xlabel('paramètre', fontsize=18)\n",
    "    plt.ylabel('coût', fontsize=18)\n",
    "    plt.legend(fontsize=18)\n",
    "    plt.figure(2)\n",
    "    plt.xlabel('itération', fontsize=18)\n",
    "    plt.ylabel('paramètre', fontsize=18)\n",
    "    plt.legend(fontsize=18)\n",
    "    plt.show()"
   ]
  },
  {
   "cell_type": "markdown",
   "id": "8c46af4b",
   "metadata": {},
   "source": [
    "Lorsque ***la valeur initiale du paramètre est proche de la valeur optimale***, la convergence de l'algorithme de Newton est **beaucoup plus rapide** que celle avec une descente de gradient, surtout si le pas de cette dernière est faible  "
   ]
  },
  {
   "cell_type": "code",
   "execution_count": null,
   "id": "90ba7f26",
   "metadata": {},
   "outputs": [],
   "source": [
    "DG(5,0.01,0)"
   ]
  },
  {
   "cell_type": "code",
   "execution_count": null,
   "id": "538995e2",
   "metadata": {},
   "outputs": [],
   "source": [
    "NewtonAlgo(5,0)"
   ]
  },
  {
   "cell_type": "code",
   "execution_count": null,
   "id": "073a782f",
   "metadata": {},
   "outputs": [],
   "source": [
    "DG(0.5,0.01,0)"
   ]
  },
  {
   "cell_type": "code",
   "execution_count": null,
   "id": "cb1df543",
   "metadata": {},
   "outputs": [],
   "source": [
    "NewtonAlgo(0.5,0)"
   ]
  },
  {
   "cell_type": "markdown",
   "id": "aac045ad",
   "metadata": {},
   "source": [
    "Mais l'algorithme de Newton est pris en défaut lorsque **la valeur initiale du paramètre est un peu plus loin de la valeur optimale** *(en particulier, dans le cas des fonctions non-convexes comme c'est le cas ici, lorsque la valeur initiale du paramètre est au-delà d'un point d'inflexion de la fonction coût)*   "
   ]
  },
  {
   "cell_type": "code",
   "execution_count": null,
   "id": "bed9d9cb",
   "metadata": {},
   "outputs": [],
   "source": [
    "NewtonAlgo(3.8,0)"
   ]
  },
  {
   "cell_type": "code",
   "execution_count": null,
   "id": "25c163a2",
   "metadata": {},
   "outputs": [],
   "source": [
    "NewtonAlgo(3.5,0)"
   ]
  },
  {
   "cell_type": "markdown",
   "id": "08ce4409",
   "metadata": {},
   "source": [
    "Pour visualiser les points d'inflexion et comprendre pourquoi l'algorithme de Newton s'écarte du minimum global dans la dernière optimisation, on peut tracer le gradient et le hessien de la fonction coût"
   ]
  },
  {
   "cell_type": "code",
   "execution_count": 113,
   "id": "cfb588b0",
   "metadata": {},
   "outputs": [],
   "source": [
    "theta_trace = np.linspace(0,6,101)\n",
    "gtheta_trace = gradient(theta_trace)\n",
    "    \n",
    "plt.figure(3,figsize=(8,8))\n",
    "plt.plot(theta_trace, gtheta_trace, label=\"fonction gradient\", linewidth = 2)\n",
    "plt.xlabel('paramètre', fontsize=18)\n",
    "plt.ylabel('gradient du coût', fontsize=18)\n",
    "plt.legend(fontsize=18)\n",
    "plt.grid()\n",
    "plt.show()"
   ]
  },
  {
   "cell_type": "code",
   "execution_count": 114,
   "id": "d9b31a54",
   "metadata": {},
   "outputs": [],
   "source": [
    "theta_trace = np.linspace(0,6,101)\n",
    "htheta_trace = hessien(theta_trace)\n",
    "    \n",
    "plt.figure(4,figsize=(8,8))\n",
    "plt.plot(theta_trace, htheta_trace, label=\"fonction hessien\", linewidth = 2)\n",
    "plt.xlabel('paramètre', fontsize=18)\n",
    "plt.ylabel('hessien du coût', fontsize=18)\n",
    "plt.legend(fontsize=18)\n",
    "plt.grid()\n",
    "plt.show()"
   ]
  }
 ],
 "metadata": {
  "kernelspec": {
   "display_name": "Python 3 (ipykernel)",
   "language": "python",
   "name": "python3"
  },
  "language_info": {
   "codemirror_mode": {
    "name": "ipython",
    "version": 3
   },
   "file_extension": ".py",
   "mimetype": "text/x-python",
   "name": "python",
   "nbconvert_exporter": "python",
   "pygments_lexer": "ipython3",
   "version": "3.9.7"
  }
 },
 "nbformat": 4,
 "nbformat_minor": 5
}
