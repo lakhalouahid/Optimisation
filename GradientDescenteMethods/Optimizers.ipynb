{
 "cells": [
  {
   "cell_type": "code",
   "execution_count": null,
   "id": "e8d2c78b",
   "metadata": {
    "title": "imports"
   },
   "outputs": [],
   "source": [
    "import numpy as np\n",
    "import matplotlib.pyplot as plt\n",
    "from mpl_toolkits.mplot3d import Axes3D\n",
    "get_ipython().run_line_magic('matplotlib', 'inline')"
   ]
  },
  {
   "cell_type": "markdown",
   "id": "f850cee5",
   "metadata": {},
   "source": [
    "## Defining the cost function\n",
    "$$cost(\\theta_{1}, \\theta_{2}) = \\theta_{1}^2 + \\theta_{2}^2$$\n",
    "$$dcost(\\theta_{1}, \\theta_{2}) = 2\\,(\\theta_{1} + \\theta_{2})$$"
   ]
  },
  {
   "cell_type": "code",
   "execution_count": null,
   "id": "1ad3209b",
   "metadata": {
    "lines_to_next_cell": 1,
    "title": "definining the cost function \"cost\" and its gradient \"dcost\" with respect to θ1 et θ2"
   },
   "outputs": [],
   "source": [
    "def cost(theta):\n",
    "    return theta[0]**2 + theta[1]**2\n",
    "\n",
    "def dcost(theta):\n",
    "    return 2*theta"
   ]
  },
  {
   "cell_type": "code",
   "execution_count": null,
   "id": "ef579641",
   "metadata": {
    "lines_to_next_cell": 2,
    "title": "some boilerplate for ploting the surface of the function"
   },
   "outputs": [],
   "source": [
    "theta1_axis = np.linspace(-2, 2, 41)\n",
    "theta2_axis = np.linspace(-2, 2, 41)\n",
    "theta1_axis , theta2_axis = np.meshgrid(theta1_axis, theta2_axis)\n",
    "cost_plot = np.zeros((len(theta1_axis), len(theta2_axis)))\n",
    "for j in range(len(theta1_axis)):\n",
    "    for k in range(len(theta2_axis)):\n",
    "        cost_plot[j, k] = cost(np.array([theta1_axis[j, k] , theta2_axis[j, k]]))\n",
    "\n",
    "\n",
    "# get_ipython().run_line_magic('matplotlib', 'inline')"
   ]
  },
  {
   "cell_type": "code",
   "execution_count": null,
   "id": "0544ca67",
   "metadata": {
    "title": "defining the plot functions"
   },
   "outputs": [],
   "source": [
    "fig = plt.figure(figsize=(22, 18))\n",
    "ax = fig.add_subplot(1, 1, 1, projection='3d', azim=-110, elev=22)\n",
    "ax.plot_wireframe(theta1_axis, theta2_axis, cost_plot)\n",
    "ax.set_xlabel('theta1', fontsize=10)\n",
    "ax.set_ylabel('theta2', fontsize=10)\n",
    "ax.set_zlabel('cost function', fontsize=8)\n",
    "plt.show()"
   ]
  },
  {
   "cell_type": "code",
   "execution_count": null,
   "id": "7bb35161",
   "metadata": {
    "title": "defining the plot functions"
   },
   "outputs": [],
   "source": [
    "def plot_solution(theta_vec, figure_nmbr=1):\n",
    "    fig = plt.figure(figure_nmbr, figsize=(22, 18))\n",
    "    n = theta_vec.shape[1]\n",
    "    ax1 = fig.add_subplot(1, 2, 1, projection='3d', azim=-110, elev=22)\n",
    "    ax1.plot_wireframe(theta1_axis, theta2_axis, cost_plot)\n",
    "    ax1.set_xlabel('theta1', fontsize=10)\n",
    "    ax1.set_ylabel('theta2', fontsize=10)\n",
    "    ax1.set_zlabel('cost function', fontsize=8)\n",
    "    ax1.scatter(theta_vec[0, :], theta_vec[1, :], cost(theta_vec), c='r', s=40)\n",
    "\n",
    "    ax2 = fig.add_subplot(1, 2, 2)\n",
    "    ax2.set_xlim(-1, n)\n",
    "    ax2.set_ylim(np.min(theta_vec)-0.1, np.max(theta_vec)+0.1)\n",
    "    ax2.scatter(np.linspace(0, n-1, n), theta_vec[0, :], c = 'b', label='theta1')\n",
    "    ax2.scatter(np.linspace(0, n-1, n), theta_vec[1, :], c = 'c', label='theta2')\n",
    "    fig.tight_layout()\n",
    "    plt.show()"
   ]
  },
  {
   "cell_type": "markdown",
   "id": "75217ed0",
   "metadata": {},
   "source": [
    "## Stochastic Gradient Descent"
   ]
  },
  {
   "cell_type": "code",
   "execution_count": null,
   "id": "e010ca87",
   "metadata": {
    "title": "Stochastic Gradient Descent"
   },
   "outputs": [],
   "source": [
    "def SGD(theta0, lr=0.01, tol=1e-6, max_i=2500):\n",
    "    theta_vec, cost_vec = np.zeros((2, max_i+1)), np.zeros((max_i+1))\n",
    "    theta_vec[:, 0], cost_vec[0] = theta0, cost(theta0)\n",
    "    for i in range(0, max_i):\n",
    "        theta_vec[:, i+1] = theta_vec[:, i] - lr * dcost(theta_vec[:, i])\n",
    "        cost_vec[i+1] = cost(theta_vec[:, i+1])\n",
    "        if abs(cost_vec[i+1]-cost_vec[i]) < tol:\n",
    "            break\n",
    "    return theta_vec[:, :i+2]"
   ]
  },
  {
   "cell_type": "markdown",
   "id": "95d3d1ce",
   "metadata": {},
   "source": [
    "## Stochastic Gradient Descent with Momentum"
   ]
  },
  {
   "cell_type": "code",
   "execution_count": null,
   "id": "8488c982",
   "metadata": {
    "title": "Momentum SGD"
   },
   "outputs": [],
   "source": [
    "def MomenSGD(theta0, lr=0.01, md=0.9, tol=1e-6, max_i=2500):\n",
    "    theta_vec, cost_vec = np.zeros((2, max_i+1)), np.zeros((max_i+1))\n",
    "    v = np.zeros((2))\n",
    "    theta_vec[:, 0], cost_vec[0] = theta0, cost(theta0)\n",
    "    for i in range(0, max_i):\n",
    "        v = md*v - lr*dcost(theta_vec[:, i])\n",
    "        theta_vec[:, i+1] = theta_vec[:, i] + v\n",
    "        cost_vec[i+1] = cost(theta_vec[:, i+1])\n",
    "        if abs(cost_vec[i+1]-cost_vec[i]) < tol:\n",
    "            break\n",
    "    return theta_vec[:, :i+2]"
   ]
  },
  {
   "cell_type": "markdown",
   "id": "83326a0c",
   "metadata": {},
   "source": [
    "## Nestorev Accelerated Gradient"
   ]
  },
  {
   "cell_type": "code",
   "execution_count": null,
   "id": "0bd0d341",
   "metadata": {
    "lines_to_next_cell": 1,
    "title": "Nasterov Accelerated Gradient"
   },
   "outputs": [],
   "source": [
    "def Nag(theta0, lr=0.01, md=0.9, tol=1e-6, max_i=2500):\n",
    "    theta_vec, cost_vec = np.zeros((2, max_i+1)), np.zeros((max_i+1))\n",
    "    theta_vec[:, 0], cost_vec[0] = theta0, cost(theta0)\n",
    "    v = np.zeros((2))\n",
    "    for i in range(0, max_i):\n",
    "        v = md*v - lr*dcost(theta_vec[:, i]+md*v)\n",
    "        theta_vec[:, i+1] = theta_vec[:, i] + v\n",
    "        cost_vec[i+1] = cost(theta_vec[:, i+1])\n",
    "        if abs(cost_vec[i+1]-cost_vec[i]) < tol:\n",
    "            break\n",
    "    return theta_vec[:, :i+2]"
   ]
  },
  {
   "cell_type": "markdown",
   "id": "77f8eeda",
   "metadata": {},
   "source": [
    "## Adaptive Gradient"
   ]
  },
  {
   "cell_type": "code",
   "execution_count": null,
   "id": "97bd43d4",
   "metadata": {
    "lines_to_next_cell": 1,
    "title": "Adapative Subgradient"
   },
   "outputs": [],
   "source": [
    "def Adagrad(theta0, lr=0.01, tol=1e-6, max_i=2500):\n",
    "    theta_vec, cost_vec = np.zeros((2, max_i+1)), np.zeros(max_i+1)\n",
    "    theta_vec[:, 0], cost_vec[0] = theta0, cost(theta0)\n",
    "    s = np.zeros((2))\n",
    "    for i in range(0, max_i):\n",
    "        dtheta = dcost(theta_vec[:, i])\n",
    "        s += dtheta**2\n",
    "        theta_vec[:, i+1] = theta_vec[:, i] - dtheta * lr / np.sqrt(s + 1e-8)\n",
    "        cost_vec[i+1] = cost(theta_vec[:, i+1])\n",
    "        if abs(cost_vec[i+1]-cost_vec[i]) < tol:\n",
    "            break\n",
    "    return theta_vec[:, :i+2]"
   ]
  },
  {
   "cell_type": "markdown",
   "id": "516d05ef",
   "metadata": {},
   "source": [
    "## RMS-Prop"
   ]
  },
  {
   "cell_type": "code",
   "execution_count": null,
   "id": "b2b6411d",
   "metadata": {
    "lines_to_next_cell": 1,
    "title": "RMS Prop"
   },
   "outputs": [],
   "source": [
    "def RMS(theta0, lr=0.01, wd=0.9, tol=1e-6, max_i=2500):\n",
    "    theta_vec, cost_vec  = np.zeros((2, max_i+1)), np.zeros(max_i+1)\n",
    "    theta_vec[:, 0], cost_vec[0], s = theta0, cost(theta0), 0\n",
    "    s = np.zeros((2))\n",
    "    for i in range(0, max_i):\n",
    "        s = wd * s + (1-wd) * dcost(theta_vec[:, i])**2\n",
    "        theta_vec[:, i+1] = theta_vec[:, i] - dcost(theta_vec[:, i]) * lr / np.sqrt(s+1e-6)\n",
    "        cost_vec[i+1] = cost(theta_vec[:, i+1])\n",
    "        if abs(cost_vec[i+1]-cost_vec[i]) < tol:\n",
    "            break\n",
    "    return theta_vec[:, :i+2]"
   ]
  },
  {
   "cell_type": "markdown",
   "id": "57b98b4e",
   "metadata": {},
   "source": [
    "## AdaDelta"
   ]
  },
  {
   "cell_type": "code",
   "execution_count": null,
   "id": "7696ec4e",
   "metadata": {
    "lines_to_next_cell": 1,
    "title": "AdaDelta"
   },
   "outputs": [],
   "source": [
    "def AdaDelta(theta0, lr=0.01, wd=0.9, tol=1e-6, max_i=2500):\n",
    "    theta_vec, cost_vec  = np.zeros((2, max_i+1)), np.zeros(max_i+1)\n",
    "    theta_vec[:, 0], cost_vec[0] = theta0, cost(theta0)\n",
    "    Sg = np.ones((2))\n",
    "    Sd = np.ones((2))\n",
    "    for i in range(0, max_i):\n",
    "        Sg = wd * Sg + (1-wd) * dcost(theta_vec[:, i])**2\n",
    "        dtheta = -dcost(theta_vec[:, i]) * lr * np.sqrt(Sd + 1e-6) / np.sqrt(Sg + 1e-6)\n",
    "        Sd = wd * Sd + (1-wd) * dtheta**2\n",
    "        theta_vec[:, i+1] = theta_vec[:, i] + dtheta\n",
    "        cost_vec[i+1] = cost(theta_vec[:, i+1])\n",
    "        if abs(cost_vec[i+1]-cost_vec[i]) < tol:\n",
    "            break\n",
    "    return theta_vec[:, :i+2]"
   ]
  },
  {
   "cell_type": "markdown",
   "id": "6b68850d",
   "metadata": {},
   "source": [
    "## Adam"
   ]
  },
  {
   "cell_type": "code",
   "execution_count": null,
   "id": "8176c530",
   "metadata": {
    "title": "Adam"
   },
   "outputs": [],
   "source": [
    "def Adam(theta0, lr=0.01, b1=0.9, b2=0.999, dc=(1-1e-8), tol=1e-6, max_i=2500):\n",
    "    theta_vec, cost_vec  = np.zeros((2, max_i+1)), np.zeros(max_i+1)\n",
    "    theta_vec[:, 0], cost_vec[0] = theta0, cost(theta0)\n",
    "    S, M = np.zeros((2,)), np.zeros((2,))\n",
    "    b1t = b1\n",
    "    for i in range(0, max_i):\n",
    "        b1t *= dc\n",
    "        grad = dcost(theta_vec[:, i])\n",
    "        M = b1t * M + (1 - b1t) * grad\n",
    "        S = b2 * S + (1 - b2) * grad**2\n",
    "        m = M/(1-b1**(i+1))\n",
    "        s = S/(1-b2**(i+1))\n",
    "        theta_vec[:, i+1] = theta_vec[:, i] - lr * m / np.sqrt(s + 1e-8)\n",
    "        cost_vec[i+1] = cost(theta_vec[:, i+1])\n",
    "        if abs(cost_vec[i+1]-cost_vec[i]) < tol:\n",
    "            break\n",
    "    return theta_vec[:, :i+2]"
   ]
  },
  {
   "cell_type": "code",
   "execution_count": null,
   "id": "c8634b7c",
   "metadata": {
    "title": "tune function"
   },
   "outputs": [],
   "source": [
    "def tune_opt(Opt, theta0, lrmin, lrmax):\n",
    "    best_iter, best_lr = 1000, None\n",
    "    for lr in np.logspace(np.log10(lrmin), np.log10(lrmax), 100):\n",
    "        theta_vec = Opt(theta0, lr=lr)\n",
    "        nmbr_iter = theta_vec.shape[1]\n",
    "        if cost(theta_vec[:,-1]) < 1e-6 and nmbr_iter < best_iter:\n",
    "            best_lr, best_iter = lr, nmbr_iter\n",
    "    return best_lr"
   ]
  },
  {
   "cell_type": "code",
   "execution_count": null,
   "id": "bd67f5b6",
   "metadata": {
    "title": "tune function"
   },
   "outputs": [],
   "source": [
    "t01 = np.array([-2, -2])"
   ]
  },
  {
   "cell_type": "code",
   "execution_count": null,
   "id": "2060cf85",
   "metadata": {
    "title": "tune function"
   },
   "outputs": [],
   "source": [
    "plot_solution(SGD(t01, lr=0.01), 1)"
   ]
  },
  {
   "cell_type": "code",
   "execution_count": null,
   "id": "4b4c0d93",
   "metadata": {
    "title": "tune function"
   },
   "outputs": [],
   "source": [
    "plot_solution(MomenSGD(t01, lr=0.01), 2)"
   ]
  },
  {
   "cell_type": "code",
   "execution_count": null,
   "id": "c55fc4b3",
   "metadata": {
    "title": "tune function"
   },
   "outputs": [],
   "source": [
    "plot_solution(Nag(t01, lr=0.01), 3)"
   ]
  },
  {
   "cell_type": "code",
   "execution_count": null,
   "id": "87399bee",
   "metadata": {
    "title": "tune function"
   },
   "outputs": [],
   "source": [
    "plot_solution(Adagrad(t01, lr=0.4), 4)"
   ]
  },
  {
   "cell_type": "code",
   "execution_count": null,
   "id": "8d8229a2",
   "metadata": {
    "title": "tune function"
   },
   "outputs": [],
   "source": [
    "plot_solution(RMS(t01, lr=0.1), 5)"
   ]
  },
  {
   "cell_type": "code",
   "execution_count": null,
   "id": "3a32898b",
   "metadata": {
    "title": "tune function"
   },
   "outputs": [],
   "source": [
    "plot_solution(AdaDelta(t01, lr=0.2), 6)"
   ]
  },
  {
   "cell_type": "code",
   "execution_count": null,
   "id": "6887d0e9",
   "metadata": {
    "title": "tune function"
   },
   "outputs": [],
   "source": [
    "plot_solution(Adam(t01, lr=0.1), 7)"
   ]
  }
 ],
 "metadata": {
  "jupytext": {
   "cell_metadata_filter": "title,-all",
   "executable": "/usr/bin/envpython",
   "main_language": "python",
   "notebook_metadata_filter": "-all",
   "text_representation": {
    "extension": ".py",
    "format_name": "percent"
   }
  },
  "kernelspec": {
   "display_name": "Python 3 (ipykernel)",
   "language": "python",
   "name": "python3"
  },
  "language_info": {
   "codemirror_mode": {
    "name": "ipython",
    "version": 3
   },
   "file_extension": ".py",
   "mimetype": "text/x-python",
   "name": "python",
   "nbconvert_exporter": "python",
   "pygments_lexer": "ipython3",
   "version": "3.9.7"
  }
 },
 "nbformat": 4,
 "nbformat_minor": 5
}
