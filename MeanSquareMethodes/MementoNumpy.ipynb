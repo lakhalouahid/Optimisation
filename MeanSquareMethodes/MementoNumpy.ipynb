{
 "cells": [
  {
   "cell_type": "markdown",
   "id": "5c387685",
   "metadata": {},
   "source": [
    "# Memento Numpy "
   ]
  },
  {
   "cell_type": "markdown",
   "id": "91c5af2b",
   "metadata": {},
   "source": [
    "Le langage de programmation *Python* sera présenté en détail dans le cadre de l'UE animée par Christophe Guicheney. Ci-dessous :  \n",
    "* sont rappelées quelques instructions de base de ce langage\n",
    "* et présentées les instructions du package *Numpy* utiles pour réaliser ce TD\n",
    "\n",
    "La prise en main du package Matplotlib est présentée dans chaque Notebook, sur la partie chargement des données  \n",
    "*(pour réaliser un tracé en trait continu plutôt que point par point, on remplace* plt.scatter *par* plt.plot*)*"
   ]
  },
  {
   "cell_type": "markdown",
   "id": "8fc56512",
   "metadata": {},
   "source": [
    "## Boucles \n",
    "1) l'instruction qui définit la boucle doit se terminer par le caractère *deux-points*  \n",
    "2) tout ce qui est dans la boucle doit être indenté  \n",
    "3) et dès qu'on met fin à l'indentation, on sort de la boucle, cela dispense d'une instruction *end*  \n",
    "4) la fonction *range(n)* crée une liste qui part de *0*, s'incrémente de *1* et se termine à *n-1* "
   ]
  },
  {
   "cell_type": "code",
   "execution_count": 1,
   "id": "ab4bc835",
   "metadata": {},
   "outputs": [
    {
     "name": "stdout",
     "output_type": "stream",
     "text": [
      "0\n",
      "1\n",
      "2\n",
      "on est sorti de la boucle\n"
     ]
    }
   ],
   "source": [
    "for i in range(3):\n",
    "    print(i)\n",
    "print('on est sorti de la boucle')"
   ]
  },
  {
   "cell_type": "code",
   "execution_count": 2,
   "id": "2c52e7aa",
   "metadata": {},
   "outputs": [
    {
     "name": "stdout",
     "output_type": "stream",
     "text": [
      "la valeur de x est strictement positive, précisément on a x =  10\n",
      "on est sorti de la boucle\n"
     ]
    }
   ],
   "source": [
    "x = 10\n",
    "if x < 0:\n",
    "    print('la valeur de x est strictement négative, précisément on a x = ',x)\n",
    "elif x > 0:\n",
    "    print('la valeur de x est strictement positive, précisément on a x = ',x)\n",
    "else: \n",
    "    print('la valeur de x est nulle')\n",
    "print('on est sorti de la boucle')"
   ]
  },
  {
   "cell_type": "code",
   "execution_count": 3,
   "id": "3f8f261c",
   "metadata": {},
   "outputs": [
    {
     "name": "stdout",
     "output_type": "stream",
     "text": [
      "au final, la valeur de x est :  3\n"
     ]
    }
   ],
   "source": [
    "x = 0\n",
    "while x < 3:\n",
    "    x += 1\n",
    "print('au final, la valeur de x est : ',x)"
   ]
  },
  {
   "cell_type": "markdown",
   "id": "56c8a817",
   "metadata": {},
   "source": [
    "## Fonctions \n",
    "1) les fonctions sont définies par le mot-clé *def*, suivi du nom de la fonction, des paramètres d'entrée entre parenthèses, et enfin du caractère *deux-points*  \n",
    "2) tout ce qui est dans la fonction doit être indenté  \n",
    "3) si on veut retourner des variables, il faut les faire précéder de l'instruction *return*  \n",
    "4) et dès qu'on met fin à l'indentation, on sort de la fonction, cela dispense d'une instruction *end*  "
   ]
  },
  {
   "cell_type": "code",
   "execution_count": 4,
   "id": "21a8ff3c",
   "metadata": {},
   "outputs": [],
   "source": [
    "def SommeProduit(a,b):\n",
    "    somme = a+b\n",
    "    produit = a*b\n",
    "    return somme, produit"
   ]
  },
  {
   "cell_type": "code",
   "execution_count": 5,
   "id": "34ba203f",
   "metadata": {},
   "outputs": [
    {
     "name": "stdout",
     "output_type": "stream",
     "text": [
      "La somme des 2 nombres est :  5\n",
      "Le produit des 2 nombres est :  6\n"
     ]
    }
   ],
   "source": [
    "s,p = SommeProduit(2,3)\n",
    "print('La somme des 2 nombres est : ',s)\n",
    "print('Le produit des 2 nombres est : ',p)"
   ]
  },
  {
   "cell_type": "markdown",
   "id": "957baa6c",
   "metadata": {},
   "source": [
    "## Affichage"
   ]
  },
  {
   "cell_type": "markdown",
   "id": "af930883",
   "metadata": {},
   "source": [
    "Si on veut afficher les nombres flottant en limitant à 4 décimales, on peut précéder ainsi"
   ]
  },
  {
   "cell_type": "code",
   "execution_count": 6,
   "id": "a2668917",
   "metadata": {},
   "outputs": [
    {
     "name": "stdout",
     "output_type": "stream",
     "text": [
      "La valeur contenue dans a est :  0.3333333333333333\n",
      "La valeur contenue dans a est 0.3333\n",
      "La valeur contenue dans a est 3.3333e-01\n"
     ]
    }
   ],
   "source": [
    "a = 1/3\n",
    "print('La valeur contenue dans a est : ',a)\n",
    "print('La valeur contenue dans a est {:.4f}'.format(a))\n",
    "print('La valeur contenue dans a est {:.4e}'.format(a))"
   ]
  },
  {
   "cell_type": "markdown",
   "id": "cbabf618",
   "metadata": {},
   "source": [
    "## Numpy"
   ]
  },
  {
   "cell_type": "code",
   "execution_count": 4,
   "id": "b6c594e8",
   "metadata": {},
   "outputs": [],
   "source": [
    "import numpy as np"
   ]
  },
  {
   "cell_type": "markdown",
   "id": "f6fec052",
   "metadata": {},
   "source": [
    "Le package *numpy* propose quelques fonctions prédéfinies :  \n",
    "* **np.sqrt()**\n",
    "* **np.cos()**\n",
    "* **np.sin()**\n",
    "* **np.arctan()**\n",
    "* **np.norm()**\n",
    "\n",
    "ainsi que la valeur du nombre $\\pi$ : **np.pi**"
   ]
  },
  {
   "cell_type": "markdown",
   "id": "0c5ca34b",
   "metadata": {},
   "source": [
    "## Saisie de matrices  \n",
    "La saisie d'une matrice $3\\times3$ peut être réalisée en utilisant 3 jeux de crochets séparés par des virgules au sein d'un crochet principal dans l'instruction *np.array*  \n",
    "Sa dimension peut être obtenue via l'attribut *shape*"
   ]
  },
  {
   "cell_type": "code",
   "execution_count": 6,
   "id": "a4a880f0",
   "metadata": {},
   "outputs": [
    {
     "name": "stdout",
     "output_type": "stream",
     "text": [
      "matrice A\n",
      "[[1 2 3]\n",
      " [4 5 6]\n",
      " [7 8 9]]\n",
      "Shape de A : (3, 3)\n"
     ]
    }
   ],
   "source": [
    "A = np.array( [ [1,2,3] , [4,5,6] , [7,8,9] ] )\n",
    "print('matrice A')\n",
    "print(A)\n",
    "print('Shape de A :',A.shape)"
   ]
  },
  {
   "cell_type": "markdown",
   "id": "edc40d86",
   "metadata": {},
   "source": [
    "On accède à un élément d'une matrice en exploitant les crochets  \n",
    "La première ligne ou la première colonne porte **l'index 0**"
   ]
  },
  {
   "cell_type": "code",
   "execution_count": 7,
   "id": "db735a71",
   "metadata": {},
   "outputs": [
    {
     "name": "stdout",
     "output_type": "stream",
     "text": [
      "L'élément ligne 1 colonne 1 est  1\n",
      "L'élément ligne 3 colonne 3 est  9\n"
     ]
    }
   ],
   "source": [
    "print('L\\'élément ligne 1 colonne 1 est ',A[0,0])\n",
    "print('L\\'élément ligne 3 colonne 3 est ',A[2,2])"
   ]
  },
  {
   "cell_type": "markdown",
   "id": "e521f2e9",
   "metadata": {},
   "source": [
    "Le caractère *deux-points* permet de spécifier une plage : le champ **début : fin** désigne une plage qui commence à l'indice ***début*** et s'arrête à l'indice ***fin - 1*** \n",
    "\n",
    "Le caractère *deux-points* tout seul indique que l'on prend toute la ligne ou colonne"
   ]
  },
  {
   "cell_type": "code",
   "execution_count": 10,
   "id": "28c529dd",
   "metadata": {},
   "outputs": [
    {
     "name": "stdout",
     "output_type": "stream",
     "text": [
      "Les éléments des 2 premières lignes et 2 dernières colonnes sont :\n",
      "[[2 3]\n",
      " [5 6]]\n"
     ]
    }
   ],
   "source": [
    "print('Les éléments des 2 premières lignes et 2 dernières colonnes sont :')\n",
    "print(A[0:2,1:3])"
   ]
  },
  {
   "cell_type": "code",
   "execution_count": 11,
   "id": "b1a59761",
   "metadata": {},
   "outputs": [
    {
     "name": "stdout",
     "output_type": "stream",
     "text": [
      "Les éléments des 2 dernières colonnes sont :\n",
      "[[2 3]\n",
      " [5 6]\n",
      " [8 9]]\n"
     ]
    }
   ],
   "source": [
    "print('Les éléments des 2 dernières colonnes sont :')\n",
    "print(A[:,1:3])"
   ]
  },
  {
   "cell_type": "code",
   "execution_count": 12,
   "id": "13fda02f",
   "metadata": {},
   "outputs": [
    {
     "name": "stdout",
     "output_type": "stream",
     "text": [
      "Les éléments de la dernière colonne sont :\n",
      "[3 6 9]\n"
     ]
    }
   ],
   "source": [
    "print('Les éléments de la dernière colonne sont :')\n",
    "print(A[:,2])"
   ]
  },
  {
   "cell_type": "markdown",
   "id": "22b4e368",
   "metadata": {},
   "source": [
    "Si on définit un vecteur, alors on n\\'utilise que le crochet principal  \n",
    "Il n'est ni ligne ni colonne, sa 2nde dimension est indéfinie, comme indiqué par sa shape"
   ]
  },
  {
   "cell_type": "code",
   "execution_count": 13,
   "id": "3d8018e0",
   "metadata": {},
   "outputs": [
    {
     "name": "stdout",
     "output_type": "stream",
     "text": [
      "Le vecteur V n'est ni ligne ni colonne :  [1 2 3]\n",
      "Cela est souligné par sa shape :  (3,)\n"
     ]
    }
   ],
   "source": [
    "V = np.array( [ 1,2,3 ] )\n",
    "print('Le vecteur V n\\'est ni ligne ni colonne : ',V)\n",
    "print('Cela est souligné par sa shape : ',V.shape)"
   ]
  },
  {
   "cell_type": "markdown",
   "id": "6edc2b40",
   "metadata": {},
   "source": [
    "Comme le vecteur n'est ni ligne ni colonne, un seul indice suffit pour isoler des élements  \n",
    "L'index **-1** désigne le dernier élément"
   ]
  },
  {
   "cell_type": "code",
   "execution_count": 14,
   "id": "e82d1cae",
   "metadata": {},
   "outputs": [
    {
     "name": "stdout",
     "output_type": "stream",
     "text": [
      "Les 2 derniers éléments de V sont :  [2 3]\n",
      "Le dernier élément de V est :  3\n"
     ]
    }
   ],
   "source": [
    "print('Les 2 derniers éléments de V sont : ',V[1:3])\n",
    "print('Le dernier élément de V est : ',V[-1])"
   ]
  },
  {
   "cell_type": "markdown",
   "id": "4bfba05d",
   "metadata": {},
   "source": [
    "Si pour assembler des matrices on a besoin de forcer le vecteur à être colonne ou ligne, alors on utilise la méthode **reshape**"
   ]
  },
  {
   "cell_type": "code",
   "execution_count": 15,
   "id": "356a4dae",
   "metadata": {},
   "outputs": [
    {
     "name": "stdout",
     "output_type": "stream",
     "text": [
      "Pour créer un vecteur colonne : \n",
      "[[1]\n",
      " [2]\n",
      " [3]]\n",
      "Sa shape est désormais  (3, 1)\n"
     ]
    }
   ],
   "source": [
    "print('Pour créer un vecteur colonne : ')\n",
    "Vc = V.reshape(-1,1)\n",
    "print(Vc)\n",
    "print('Sa shape est désormais ',Vc.shape)"
   ]
  },
  {
   "cell_type": "code",
   "execution_count": 16,
   "id": "f985bd79",
   "metadata": {},
   "outputs": [
    {
     "name": "stdout",
     "output_type": "stream",
     "text": [
      "Pour créer un vecteur ligne : \n",
      "[[1 2 3]]\n",
      "Sa shape est désormais  (1, 3)\n"
     ]
    }
   ],
   "source": [
    "print('Pour créer un vecteur ligne : ')\n",
    "Vl = V.reshape(1,-1)\n",
    "print(Vl)\n",
    "print('Sa shape est désormais ',Vl.shape)"
   ]
  },
  {
   "cell_type": "markdown",
   "id": "387c8e3f",
   "metadata": {},
   "source": [
    "Mais dans ce cas, il faut 2 indices pour accéder à un élément  "
   ]
  },
  {
   "cell_type": "code",
   "execution_count": 17,
   "id": "b5e3e0ae",
   "metadata": {},
   "outputs": [
    {
     "name": "stdout",
     "output_type": "stream",
     "text": [
      "Le second élément de Vl est :  2\n"
     ]
    }
   ],
   "source": [
    "print('Le second élément de Vl est : ',Vl[0,1])"
   ]
  },
  {
   "cell_type": "code",
   "execution_count": 18,
   "id": "98a36dc2",
   "metadata": {},
   "outputs": [
    {
     "name": "stdout",
     "output_type": "stream",
     "text": [
      "Les deux derniers éléments de Vc sont :  [2 3]\n"
     ]
    }
   ],
   "source": [
    "print('Les deux derniers éléments de Vc sont : ',Vc[1:3:,0])"
   ]
  },
  {
   "cell_type": "markdown",
   "id": "8ec4c8c6",
   "metadata": {},
   "source": [
    "La longueur et la somme des éléments d'un vecteur s'obtiennent comme suit :"
   ]
  },
  {
   "cell_type": "code",
   "execution_count": 19,
   "id": "ad95ae6b",
   "metadata": {},
   "outputs": [
    {
     "name": "stdout",
     "output_type": "stream",
     "text": [
      "La longueur de V est : 3\n",
      "La somme des éléments de V est :  6\n"
     ]
    }
   ],
   "source": [
    "print('La longueur de V est :',len(V))\n",
    "print('La somme des éléments de V est : ',sum(V))"
   ]
  },
  {
   "cell_type": "markdown",
   "id": "3cf57257",
   "metadata": {},
   "source": [
    "## Matrices classiques  \n",
    "Pour créer des matrices de zéros ou de uns, on utilise ***np.zeros*** et ***np.ones***, avec les dimensions données **entre parenthèses** au sein **des parenthèses** associées à la fonction"
   ]
  },
  {
   "cell_type": "code",
   "execution_count": 20,
   "id": "fa5d5739",
   "metadata": {},
   "outputs": [
    {
     "name": "stdout",
     "output_type": "stream",
     "text": [
      "[[0. 0. 0.]\n",
      " [0. 0. 0.]]\n"
     ]
    }
   ],
   "source": [
    "z = np.zeros((2,3))\n",
    "print(z)"
   ]
  },
  {
   "cell_type": "code",
   "execution_count": 21,
   "id": "da39d9a1",
   "metadata": {},
   "outputs": [
    {
     "name": "stdout",
     "output_type": "stream",
     "text": [
      "[[1. 1.]\n",
      " [1. 1.]\n",
      " [1. 1.]]\n"
     ]
    }
   ],
   "source": [
    "u = np.ones((3,2))\n",
    "print(u)"
   ]
  },
  {
   "cell_type": "markdown",
   "id": "01a9fa97",
   "metadata": {},
   "source": [
    "Enfin, ***np.linspace(début,fin,nb)*** permet de générer un vecteur de ***nb*** éléments équi-répartis entre ***début*** et ***fin***"
   ]
  },
  {
   "cell_type": "code",
   "execution_count": 13,
   "id": "fd3f8ebb",
   "metadata": {},
   "outputs": [
    {
     "name": "stdout",
     "output_type": "stream",
     "text": [
      "[ 2.  4.  6.  8. 10. 12.]\n"
     ]
    }
   ],
   "source": [
    "x = np.linspace(2,12,6)\n",
    "print(x)"
   ]
  },
  {
   "cell_type": "markdown",
   "id": "43b2c3e8",
   "metadata": {},
   "source": [
    "## Opérations sur les matrices"
   ]
  },
  {
   "cell_type": "code",
   "execution_count": 22,
   "id": "80bc059a",
   "metadata": {},
   "outputs": [
    {
     "name": "stdout",
     "output_type": "stream",
     "text": [
      "Voici la matrice A\n",
      "[[1 2 0]\n",
      " [3 0 4]\n",
      " [0 5 6]]\n",
      "Voici la matrice B\n",
      "[[1 2]\n",
      " [3 4]\n",
      " [5 6]] \n",
      "\n",
      "On obtient ainsi la transposée de B : \n",
      "[[1 3 5]\n",
      " [2 4 6]] \n",
      "\n",
      "Par défaut, toute opération sur les matrices est réalisée terme à terme\n",
      "Pour faire un produit matriciel, on utilise la méthode .dot()\n",
      "[[ 7 10]\n",
      " [23 30]\n",
      " [45 56]] \n",
      "\n",
      "L'inverse d'une matrice carrée s'obtient comme suit. inv(A) est :\n",
      "[[ 0.35714286  0.21428571 -0.14285714]\n",
      " [ 0.32142857 -0.10714286  0.07142857]\n",
      " [-0.26785714  0.08928571  0.10714286]] \n",
      "\n",
      "La pseudo-inverse d'une matrice rectangulaire s'obtient comme suit. pinv(B) est :\n",
      "[[-1.33333333 -0.33333333  0.66666667]\n",
      " [ 1.08333333  0.33333333 -0.41666667]] \n",
      "\n",
      "Pour concaténer deux matrices horizontalement, on utilise l'instruction np.hstack,\n",
      "en plaçant les matrices entre parenthèses au sein des parenthèses de la fonction hstack :\n",
      "[[1 2 0 1 2]\n",
      " [3 0 4 3 4]\n",
      " [0 5 6 5 6]] \n",
      "\n",
      "Pour concaténer deux matrices verticalement, on utilise l'instruction np.vstack,\n",
      "en plaçant les matrices entre parenthèses au sein des parenthèses de la fonction vstack :\n",
      "[[1 2]\n",
      " [3 0]\n",
      " [0 5]\n",
      " [1 2]\n",
      " [3 4]\n",
      " [5 6]] \n",
      "\n",
      "Pour supprimer un élément d'un vecteur, on utilise l'instruction np.delete,\n",
      "en passant en second argument le numéro de l'élement à supprimer\n",
      "Voici le vecteur V\n",
      "[1 2 3]\n",
      "Voici le vecteur V où l'on a enlevé l'élément 2 :\n",
      "[1 3]\n"
     ]
    }
   ],
   "source": [
    "A = np.array( [ [1,2,0] , [3,0,4] , [0,5,6] ] )\n",
    "B = np.array( [ [1,2] , [3,4] , [5,6] ] )\n",
    "print('Voici la matrice A')\n",
    "print(A)\n",
    "print('Voici la matrice B')\n",
    "print(B,'\\n')\n",
    "\n",
    "print('On obtient ainsi la transposée de B : ')\n",
    "print(B.T,'\\n')\n",
    "\n",
    "print('Par défaut, toute opération sur les matrices est réalisée terme à terme')\n",
    "print('Pour faire un produit matriciel, on utilise la méthode .dot()')\n",
    "print(A.dot(B),'\\n')\n",
    "\n",
    "print('L\\'inverse d\\'une matrice carrée s\\'obtient comme suit. inv(A) est :')\n",
    "print(np.linalg.inv(A),'\\n')\n",
    "\n",
    "print('La pseudo-inverse d\\'une matrice rectangulaire s\\'obtient comme suit. pinv(B) est :')\n",
    "print(np.linalg.pinv(B),'\\n')\n",
    "\n",
    "print('Pour concaténer deux matrices horizontalement, on utilise l\\'instruction np.hstack,')\n",
    "print('en plaçant les matrices entre parenthèses au sein des parenthèses de la fonction hstack :')\n",
    "print(np.hstack( ( A , B )),'\\n')\n",
    "\n",
    "print('Pour concaténer deux matrices verticalement, on utilise l\\'instruction np.vstack,')\n",
    "print('en plaçant les matrices entre parenthèses au sein des parenthèses de la fonction vstack :')\n",
    "print(np.vstack( ( A[:,0:2] , B )),'\\n')\n",
    "\n",
    "print('Pour supprimer un élément d\\'un vecteur, on utilise l\\'instruction np.delete,')\n",
    "print('en passant en second argument le numéro de l\\'élement à supprimer')\n",
    "\n",
    "V = np.array( [1,2,3] )\n",
    "print('Voici le vecteur V')\n",
    "print(V)\n",
    "print('Voici le vecteur V où l\\'on a enlevé l\\'élément 2 :')\n",
    "print(np.delete(V,1))"
   ]
  }
 ],
 "metadata": {
  "kernelspec": {
   "display_name": "Python 3",
   "language": "python",
   "name": "python3"
  },
  "language_info": {
   "codemirror_mode": {
    "name": "ipython",
    "version": 3
   },
   "file_extension": ".py",
   "mimetype": "text/x-python",
   "name": "python",
   "nbconvert_exporter": "python",
   "pygments_lexer": "ipython3",
   "version": "3.8.8"
  }
 },
 "nbformat": 4,
 "nbformat_minor": 5
}
