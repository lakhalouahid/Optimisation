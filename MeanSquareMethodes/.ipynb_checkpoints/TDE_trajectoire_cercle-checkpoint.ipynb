{
 "cells": [
  {
   "cell_type": "markdown",
   "id": "12489c5a",
   "metadata": {},
   "source": [
    "# TD trajectoire -- cercle"
   ]
  },
  {
   "cell_type": "markdown",
   "id": "dd0b6053",
   "metadata": {},
   "source": [
    "### ***Chargement des données***"
   ]
  },
  {
   "cell_type": "code",
   "execution_count": 1,
   "id": "e5de69d2",
   "metadata": {},
   "outputs": [],
   "source": [
    "import numpy as np\n",
    "import matplotlib.pyplot as plt\n",
    "%matplotlib inline"
   ]
  },
  {
   "cell_type": "code",
   "execution_count": 2,
   "id": "0cfbe55a",
   "metadata": {},
   "outputs": [
    {
     "name": "stdout",
     "output_type": "stream",
     "text": [
      "['u', 'v']\n"
     ]
    }
   ],
   "source": [
    "trajectoire = np.load(\"trajectoire.npz\")\n",
    "print(trajectoire.files)"
   ]
  },
  {
   "cell_type": "code",
   "execution_count": 3,
   "id": "8c442c06",
   "metadata": {},
   "outputs": [],
   "source": [
    "u = trajectoire[trajectoire.files[0]]\n",
    "v = trajectoire[trajectoire.files[1]]"
   ]
  },
  {
   "cell_type": "code",
   "execution_count": 4,
   "id": "c64517e4",
   "metadata": {},
   "outputs": [
    {
     "name": "stdout",
     "output_type": "stream",
     "text": [
      "La dimension de la donnée u est  (41,)\n",
      "La dimension de la donnée v est  (41,)\n"
     ]
    }
   ],
   "source": [
    "print(\"La dimension de la donnée u est \",u.shape)\n",
    "print(\"La dimension de la donnée v est \",v.shape)"
   ]
  },
  {
   "cell_type": "code",
   "execution_count": 5,
   "id": "59f5f55f",
   "metadata": {},
   "outputs": [
    {
     "data": {
      "image/png": "[encoded data removed]",
      "text/plain": [
       "<Figure size 576x576 with 1 Axes>"
      ]
     },
     "metadata": {
      "needs_background": "light"
     },
     "output_type": "display_data"
    }
   ],
   "source": [
    "plt.figure(figsize=(8,8))\n",
    "plt.scatter(u, v, label=\"données enregistrées\")\n",
    "plt.xlabel('abscisse u (en mètres)', fontsize=18)\n",
    "plt.ylabel('ordonnée v (en mètres)', fontsize=18)\n",
    "plt.legend(fontsize=18)\n",
    "plt.grid()\n",
    "plt.show()"
   ]
  },
  {
   "cell_type": "markdown",
   "id": "70a0e2dd",
   "metadata": {},
   "source": [
    "\n",
    "***\n"
   ]
  },
  {
   "cell_type": "markdown",
   "id": "969e1848",
   "metadata": {},
   "source": [
    "###  ***Modélisation envisagée***  \n",
    "Le contexte de l'acquisition, corroboré par la visualisation graphique des données, invite à rechercher une modélisation de la relation entre l'abscisse $\\boldsymbol{u}$ et l'ordonnée $\\boldsymbol{v}$ par l'équation d'un cercle : \n",
    "$$(u-u_0)^2+(v-v_0)^2=R^2$$"
   ]
  },
  {
   "cell_type": "code",
   "execution_count": 20,
   "id": "aaf8530d",
   "metadata": {},
   "outputs": [],
   "source": [
    "# Calculer ici :\n",
    "# 1) les paramètres du cercle par la méthode des moindres carrés\n",
    "M, V = np.stack((2*u, 2*v, np.ones(len(u))), axis=1), u**2 + v**2\n",
    "Resultat = list(np.linalg.lstsq(M, V,rcond=None))\n",
    "u0, v0, _ = Resultat[0]\n",
    "r = np.sqrt(_ + u0**2 + v0**2)"
   ]
  },
  {
   "cell_type": "code",
   "execution_count": 21,
   "id": "d2db2d31",
   "metadata": {},
   "outputs": [
    {
     "name": "stdout",
     "output_type": "stream",
     "text": [
      "[98.6808139]\n"
     ]
    }
   ],
   "source": [
    "print(Residu)"
   ]
  },
  {
   "cell_type": "markdown",
   "id": "81d58f21",
   "metadata": {},
   "source": [
    "#### Visualisation graphique"
   ]
  },
  {
   "cell_type": "code",
   "execution_count": 22,
   "id": "d8bdd349",
   "metadata": {},
   "outputs": [
    {
     "ename": "IndentationError",
     "evalue": "expected an indented block (3664590566.py, line 5)",
     "output_type": "error",
     "traceback": [
      "\u001b[0;36m  File \u001b[0;32m\"/tmp/ipykernel_24211/3664590566.py\"\u001b[0;36m, line \u001b[0;32m5\u001b[0m\n\u001b[0;31m    \u001b[0m\n\u001b[0m    ^\u001b[0m\n\u001b[0;31mIndentationError\u001b[0m\u001b[0;31m:\u001b[0m expected an indented block\n"
     ]
    }
   ],
   "source": [
    "n = 50\n",
    "hatU, hatV = np.zeros(n), np.zeros(n)\n",
    "theta_vec = np.linspace(0, 2*np.PI, n)\n",
    "hatU = u0 + r * np.cos(theta)\n",
    "hatU = v0 + r * np.sin(theta)"
   ]
  },
  {
   "cell_type": "code",
   "execution_count": null,
   "id": "b00e1483",
   "metadata": {},
   "outputs": [],
   "source": [
    "# 2) puis un ensemble de coordonnées (hatU,hatV) de points appartenant à ce cercle modélisant les données\n",
    "plt.figure(figsize=(8,8))\n",
    "plt.scatter(u, v, label=\"données enregistrées\")\n",
    "plt.plot(hatU, hatV, c='r', label=\"modèle des données\")\n",
    "plt.xlabel('abscisse u (en mètres)', fontsize=18)\n",
    "plt.ylabel('ordonnée v (en mètres)', fontsize=18)\n",
    "plt.legend(fontsize=18)\n",
    "plt.grid()\n",
    "plt.show()"
   ]
  }
 ],
 "metadata": {
  "kernelspec": {
   "display_name": "Python 3 (ipykernel)",
   "language": "python",
   "name": "python3"
  },
  "language_info": {
   "codemirror_mode": {
    "name": "ipython",
    "version": 3
   },
   "file_extension": ".py",
   "mimetype": "text/x-python",
   "name": "python",
   "nbconvert_exporter": "python",
   "pygments_lexer": "ipython3",
   "version": "3.9.7"
  }
 },
 "nbformat": 4,
 "nbformat_minor": 5
}
